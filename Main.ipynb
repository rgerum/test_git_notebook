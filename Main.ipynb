{
 "cells": [
  {
   "cell_type": "markdown",
   "id": "b6627f46-77ce-4f79-b756-c7b8551ff48d",
   "metadata": {
    "tags": []
   },
   "source": [
    "# Main"
   ]
  },
  {
   "cell_type": "code",
   "execution_count": 1,
   "id": "433701d8-b06d-4847-b714-c2f06c438320",
   "metadata": {
    "tags": []
   },
   "outputs": [
    {
     "name": "stdout",
     "output_type": "stream",
     "text": [
      "hello world\n"
     ]
    }
   ],
   "source": [
    "print(\"hello world\")"
   ]
  },
  {
   "cell_type": "markdown",
   "id": "fb9c4f77-e94d-41d6-9a49-803c399e2f97",
   "metadata": {},
   "source": [
    "## subsection"
   ]
  },
  {
   "cell_type": "code",
   "execution_count": null,
   "id": "5a9ca46b-98df-4e05-8b1d-a8fe6bd87950",
   "metadata": {},
   "outputs": [],
   "source": []
  }
 ],
 "metadata": {
  "kernelspec": {
   "display_name": "Python 3 (ipykernel)",
   "language": "python",
   "name": "python3"
  },
  "language_info": {
   "codemirror_mode": {
    "name": "ipython",
    "version": 3
   },
   "file_extension": ".py",
   "mimetype": "text/x-python",
   "name": "python",
   "nbconvert_exporter": "python",
   "pygments_lexer": "ipython3",
   "version": "3.10.9"
  }
 },
 "nbformat": 4,
 "nbformat_minor": 5
}
